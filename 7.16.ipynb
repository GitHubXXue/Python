{
 "cells": [
  {
   "cell_type": "markdown",
   "metadata": {},
   "source": [
    "# 基本程序设计\n",
    "- 一切代码输入，请使用英文输入法"
   ]
  },
  {
   "cell_type": "markdown",
   "metadata": {},
   "source": [
    "## 编写一个简单的程序\n",
    "- 圆公式面积： area = radius \\* radius \\* 3.1415"
   ]
  },
  {
   "cell_type": "code",
   "execution_count": null,
   "metadata": {},
   "outputs": [],
   "source": [
    "radius = float(input('please input radius')) # 输入123 类型为字符串 #float input 都是一个类 \n",
    "#type(radius)\n",
    "#print(radius*10) #123123123...输出十次  字符串可以乘法\n",
    "print(radius*radius*3.1415)  #please input radius10   314.1   please input radius10  314.15000000000003 "
   ]
  },
  {
   "cell_type": "markdown",
   "metadata": {},
   "source": [
    "### 在Python里面不需要定义数据的类型"
   ]
  },
  {
   "cell_type": "markdown",
   "metadata": {},
   "source": [
    "## 控制台的读取与输入\n",
    "- input 输入进去的是字符串\n",
    "- eval"
   ]
  },
  {
   "cell_type": "code",
   "execution_count": 8,
   "metadata": {},
   "outputs": [
    {
     "name": "stdout",
     "output_type": "stream",
     "text": [
      "age12\n",
      "12\n"
     ]
    }
   ],
   "source": [
    "age = eval(input('age')) #输入什么类型转换为什么类型\n",
    "print(age)"
   ]
  },
  {
   "cell_type": "markdown",
   "metadata": {},
   "source": [
    "- 在jupyter用shift + tab 键可以跳出解释文档"
   ]
  },
  {
   "cell_type": "markdown",
   "metadata": {},
   "source": [
    "## 变量命名的规范\n",
    "- 由字母、数字、下划线构成\n",
    "- 不能以数字开头 \\*\n",
    "- 标识符不能是关键词(实际上是可以强制改变的，但是对于代码规范而言是极其不适合)\n",
    "- 可以是任意长度\n",
    "- 驼峰式命名"
   ]
  },
  {
   "cell_type": "markdown",
   "metadata": {},
   "source": [
    "## 变量、赋值语句和赋值表达式\n",
    "- 变量: 通俗理解为可以变化的量\n",
    "- x = 2 \\* x + 1 在数学中是一个方程，而在语言中它是一个表达式\n",
    "- test = test + 1 \\* 变量在赋值之前必须有值  #初始值"
   ]
  },
  {
   "cell_type": "markdown",
   "metadata": {},
   "source": [
    "## 同时赋值\n",
    "var1, var2,var3... = exp1,exp2,exp3..."
   ]
  },
  {
   "cell_type": "code",
   "execution_count": null,
   "metadata": {},
   "outputs": [],
   "source": [
    "type() #里面只能一个值"
   ]
  },
  {
   "cell_type": "markdown",
   "metadata": {},
   "source": [
    "## 定义常量\n",
    "- 常量：表示一种定值标识符，适合于多次使用的场景。比如PI\n",
    "- 注意：在其他低级语言中如果定义了常量，那么，该常量是不可以被改变的，但是在Python中一切皆对象，常量也是可以被改变的"
   ]
  },
  {
   "cell_type": "code",
   "execution_count": null,
   "metadata": {},
   "outputs": [],
   "source": [
    "# 一切皆对象  私有变量 两个下划线 "
   ]
  },
  {
   "cell_type": "markdown",
   "metadata": {},
   "source": [
    "## 数值数据类型和运算符\n",
    "- 在Python中有两种数值类型（int 和 float）适用于加减乘除、模、幂次\n",
    "<img src = \"../Photo/01.jpg\"></img>"
   ]
  },
  {
   "cell_type": "markdown",
   "metadata": {},
   "source": [
    "## 运算符 /、//、**"
   ]
  },
  {
   "cell_type": "code",
   "execution_count": 3,
   "metadata": {},
   "outputs": [
    {
     "data": {
      "text/plain": [
       "1"
      ]
     },
     "execution_count": 3,
     "metadata": {},
     "output_type": "execute_result"
    }
   ],
   "source": [
    "10 ** 10 #10000000000\n",
    "10 / 10 #1.0\n",
    "10 // 10 #1"
   ]
  },
  {
   "cell_type": "markdown",
   "metadata": {},
   "source": [
    "## 运算符 %"
   ]
  },
  {
   "cell_type": "markdown",
   "metadata": {},
   "source": [
    "## EP：\n",
    "- 25/4 多少，如果要将其转变为整数该怎么改写\n",
    "- 输入一个数字判断是奇数还是偶数\n",
    "- 进阶: 输入一个秒数，写一个程序将其转换成分和秒：例如500秒等于8分20秒\n",
    "- 进阶: 如果今天是星期六，那么10天以后是星期几？ 提示：每个星期的第0天是星期天"
   ]
  },
  {
   "cell_type": "code",
   "execution_count": 1,
   "metadata": {
    "scrolled": true
   },
   "outputs": [
    {
     "name": "stdout",
     "output_type": "stream",
     "text": [
      "6\n",
      "输入一个数字5\n"
     ]
    }
   ],
   "source": [
    "print(int(25 / 4 ))\n",
    "num = eval(input('输入一个数字'))\n",
    "if num % 2 == 0:\n",
    "   print('这个数字是一个偶数')\n"
   ]
  },
  {
   "cell_type": "code",
   "execution_count": 22,
   "metadata": {},
   "outputs": [
    {
     "name": "stdout",
     "output_type": "stream",
     "text": [
      "输入一个秒数500\n",
      "8 20\n",
      "500秒等于8分20秒\n"
     ]
    }
   ],
   "source": [
    "mm = eval(input('输入一个秒数'))\n",
    "fen = int(mm/60)\n",
    "miao = int(mm-fen*60)\n",
    "print(fen,miao)\n",
    "print('{}秒等于{}分{}秒'.format(mm,fen,miao)                                                                                                                                 )"
   ]
  },
  {
   "cell_type": "code",
   "execution_count": 59,
   "metadata": {},
   "outputs": [
    {
     "name": "stdout",
     "output_type": "stream",
     "text": [
      "输入一个星期3\n",
      "6\n"
     ]
    }
   ],
   "source": [
    "mm = eval(input('输入一个星期'))\n",
    "print(mm%10+mm)"
   ]
  },
  {
   "cell_type": "code",
   "execution_count": 87,
   "metadata": {},
   "outputs": [
    {
     "name": "stdout",
     "output_type": "stream",
     "text": [
      "4973\n",
      "please yanzhengma number:4937\n",
      "bad count\n"
     ]
    }
   ],
   "source": [
    "       #进阶: 验证码\n",
    "import random\n",
    "count = random.randint(1000,10000)\n",
    "print(count)\n",
    "number = eval(input('please yanzhengma number:'))\n",
    "if count==number:\n",
    "    print('its ok')\n",
    "else:\n",
    "    print('bad count')"
   ]
  },
  {
   "cell_type": "markdown",
   "metadata": {},
   "source": [
    "## 科学计数法\n",
    "- 1.234e+2\n",
    "- 1.234e-2"
   ]
  },
  {
   "cell_type": "markdown",
   "metadata": {},
   "source": [
    "## 计算表达式和运算优先级\n",
    "<img src = \"../Photo/02.png\"></img>\n",
    "<img src = \"../Photo/03.png\"></img>"
   ]
  },
  {
   "cell_type": "markdown",
   "metadata": {},
   "source": [
    "## 增强型赋值运算\n",
    "<img src = \"../Photo/04.png\"></img>"
   ]
  },
  {
   "cell_type": "markdown",
   "metadata": {},
   "source": [
    "## 类型转换\n",
    "- float  -> int\n",
    "- 四舍五入 round"
   ]
  },
  {
   "cell_type": "code",
   "execution_count": null,
   "metadata": {},
   "outputs": [],
   "source": [
    "round() #round(number[, ndigits])  []"
   ]
  },
  {
   "cell_type": "markdown",
   "metadata": {},
   "source": [
    "## EP:\n",
    "- 如果一个年营业税为0.06%，那么对于197.55e+2的年收入，需要交税为多少？(结果保留2为小数)\n",
    "- 必须使用科学计数法"
   ]
  },
  {
   "cell_type": "markdown",
   "metadata": {},
   "source": [
    "# Project\n",
    "- 用Python写一个贷款计算器程序：输入的是月供(monthlyPayment) 输出的是总还款数(totalpayment)\n",
    "![](../Photo/05.png)"
   ]
  },
  {
   "cell_type": "markdown",
   "metadata": {},
   "source": [
    "# Homework\n",
    "- 1\n",
    "<img src=\"../Photo/06.png\"></img>"
   ]
  },
  {
   "cell_type": "code",
   "execution_count": 1,
   "metadata": {},
   "outputs": [
    {
     "name": "stdout",
     "output_type": "stream",
     "text": [
      "Enter a degree in Celsius:43\n",
      "43 Celsius is 109.4 Fahrenheit\n"
     ]
    }
   ],
   "source": [
    "cel = input('Enter a degree in Celsius:')\n",
    "fah = (9 / 5) * int(cel) + 32\n",
    "print('{} Celsius is {} Fahrenheit'.format(cel,fah))"
   ]
  },
  {
   "cell_type": "markdown",
   "metadata": {},
   "source": [
    "- 2\n",
    "<img src=\"../Photo/07.png\"></img>"
   ]
  },
  {
   "cell_type": "code",
   "execution_count": 47,
   "metadata": {},
   "outputs": [
    {
     "name": "stdout",
     "output_type": "stream",
     "text": [
      "Enter the radius and length of a cylinder:5.5,12\n",
      "The area is 95.0332\n",
      "The volume is 1140.4\n"
     ]
    }
   ],
   "source": [
    "radius,length = map(float,input('Enter the radius and length of a cylinder:').split(','))\n",
    "area = round(radius * radius * 3.1415926,4)\n",
    "volume = round(area * length,1)\n",
    "print('The area is {}'.format(area))\n",
    "print('The volume is {}'.format(volume))"
   ]
  },
  {
   "cell_type": "markdown",
   "metadata": {},
   "source": [
    "- 3\n",
    "<img src=\"../Photo/08.png\"></img>"
   ]
  },
  {
   "cell_type": "code",
   "execution_count": 52,
   "metadata": {},
   "outputs": [
    {
     "name": "stdout",
     "output_type": "stream",
     "text": [
      "Enter a value for feet:16.5\n",
      "16.5 feet is 5.0325 meters\n"
     ]
    }
   ],
   "source": [
    "feet = input('Enter a value for feet:')\n",
    "meters = float(feet) * 0.305\n",
    "print('{} feet is {} meters'.format(feet,meters))"
   ]
  },
  {
   "cell_type": "markdown",
   "metadata": {},
   "source": [
    "- 4\n",
    "<img src=\"../Photo/10.png\"></img>"
   ]
  },
  {
   "cell_type": "code",
   "execution_count": 53,
   "metadata": {},
   "outputs": [
    {
     "name": "stdout",
     "output_type": "stream",
     "text": [
      "Enter the amount of water in kilograms:55.5\n",
      "Enter the initial temperature:3.5\n",
      "Enter the final temperature10.5\n",
      "The energy needed is 1625484.0\n"
     ]
    }
   ],
   "source": [
    "M = input('Enter the amount of water in kilograms:')\n",
    "init = input('Enter the initial temperature:')\n",
    "fin = input('Enter the final temperature')\n",
    "Q = float(M) * (float(fin)-float(init)) * 4184\n",
    "print('The energy needed is {}'.format(Q))"
   ]
  },
  {
   "cell_type": "markdown",
   "metadata": {},
   "source": [
    "- 5\n",
    "<img src=\"../Photo/11.png\"></img>"
   ]
  },
  {
   "cell_type": "code",
   "execution_count": 2,
   "metadata": {},
   "outputs": [
    {
     "name": "stdout",
     "output_type": "stream",
     "text": [
      "Enter balance and interest rate(e.g.,3 for 3%):1000,3.5\n",
      "The interest is 2.91667\n"
     ]
    }
   ],
   "source": [
    "bal,inter = map(float,input('Enter balance and interest rate(e.g.,3 for 3%):').split(','))\n",
    "rate = round(bal * (inter / 1200),5)\n",
    "print('The interest is {}'.format(rate))\n"
   ]
  },
  {
   "cell_type": "markdown",
   "metadata": {},
   "source": [
    "- 6\n",
    "<img src=\"../Photo/12.png\"></img>"
   ]
  },
  {
   "cell_type": "code",
   "execution_count": 7,
   "metadata": {},
   "outputs": [
    {
     "name": "stdout",
     "output_type": "stream",
     "text": [
      "Enter v0,v1 and t:5.5,50.9,4.5\n",
      "The average acceleration is 10.0889\n"
     ]
    }
   ],
   "source": [
    "v0,v1,t =  map(float,input('Enter v0,v1 and t:').split(','))\n",
    "a = round((v1 - v0) / t,4)\n",
    "print('The average acceleration is {}'.format(a))"
   ]
  },
  {
   "cell_type": "markdown",
   "metadata": {},
   "source": [
    "- 7 进阶\n",
    "<img src=\"../Photo/13.png\"></img>"
   ]
  },
  {
   "cell_type": "code",
   "execution_count": 49,
   "metadata": {
    "scrolled": true
   },
   "outputs": [
    {
     "name": "stdout",
     "output_type": "stream",
     "text": [
      "Enter the monthly saving amount:100\n",
      "After the sixth mouth, the account value is 608.82\n"
     ]
    }
   ],
   "source": [
    "mon = input('Enter the monthly saving amount:')\n",
    "account = int(mon) * (1 + 0.00417)\n",
    "for i in range(1,6):  \n",
    "    account = round((int(mon) + account) * (1+0.00417),2)\n",
    "print('After the sixth mouth, the account value is {}'.format(account))"
   ]
  },
  {
   "cell_type": "markdown",
   "metadata": {},
   "source": [
    "- 8 进阶\n",
    "<img src=\"../Photo/14.png\"></img>"
   ]
  },
  {
   "cell_type": "code",
   "execution_count": 51,
   "metadata": {},
   "outputs": [
    {
     "name": "stdout",
     "output_type": "stream",
     "text": [
      "Enter a number between 0 and 1000:999\n",
      "The sum of the digits is 27\n"
     ]
    }
   ],
   "source": [
    "num = input('Enter a number between 0 and 1000:')\n",
    "sum = 0\n",
    "for i in range(1,4):\n",
    "    sum =sum + int(num) % 10\n",
    "    num = int(num) // 10 \n",
    "print('The sum of the digits is {}'.format(sum))"
   ]
  }
 ],
 "metadata": {
  "kernelspec": {
   "display_name": "Python 3",
   "language": "python",
   "name": "python3"
  },
  "language_info": {
   "codemirror_mode": {
    "name": "ipython",
    "version": 3
   },
   "file_extension": ".py",
   "mimetype": "text/x-python",
   "name": "python",
   "nbconvert_exporter": "python",
   "pygments_lexer": "ipython3",
   "version": "3.6.4"
  }
 },
 "nbformat": 4,
 "nbformat_minor": 2
}
