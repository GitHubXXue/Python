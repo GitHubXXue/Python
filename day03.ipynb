{
 "cells": [
  {
   "cell_type": "markdown",
   "metadata": {},
   "source": [
    "# 选择\n",
    "## 布尔类型、数值和表达式\n",
    "![](../Photo/33.png)\n",
    "- 注意：比较运算符的相等是两个等到，一个等到代表赋值\n",
    "- 在Python中可以用整型0来代表False，其他数字来代表True\n",
    "- 后面还会讲到 is 在判断语句中的用发"
   ]
  },
  {
   "cell_type": "code",
   "execution_count": 2,
   "metadata": {},
   "outputs": [
    {
     "name": "stdout",
     "output_type": "stream",
     "text": [
      "False\n"
     ]
    }
   ],
   "source": [
    "print(1>=2)  #必须print来输出 "
   ]
  },
  {
   "cell_type": "code",
   "execution_count": null,
   "metadata": {},
   "outputs": [],
   "source": [
    "money = 1000000"
   ]
  },
  {
   "cell_type": "code",
   "execution_count": 5,
   "metadata": {},
   "outputs": [
    {
     "name": "stdout",
     "output_type": "stream",
     "text": [
      "此次取钱的金额：50\n",
      "余额 999800\n"
     ]
    }
   ],
   "source": [
    "getMon = eval(input('此次取钱的金额：'))\n",
    "rest = int(money) - getMon\n",
    "if(getMon <= money):\n",
    "    money = rest\n",
    "    print('余额',rest)\n",
    "  #  send_message() #函数   给邮箱发送消息需调用接口可以\n",
    "else:\n",
    "    print('余额不足')"
   ]
  },
  {
   "cell_type": "markdown",
   "metadata": {},
   "source": [
    "## 字符串的比较使用ASCII值"
   ]
  },
  {
   "cell_type": "code",
   "execution_count": 7,
   "metadata": {},
   "outputs": [
    {
     "data": {
      "text/plain": [
       "False"
      ]
     },
     "execution_count": 7,
     "metadata": {},
     "output_type": "execute_result"
    }
   ],
   "source": [
    "'abc' > 'abcd'  #不是只比较第一位 逐位比较"
   ]
  },
  {
   "cell_type": "markdown",
   "metadata": {},
   "source": [
    "## Markdown \n",
    "- https://github.com/younghz/Markdown"
   ]
  },
  {
   "cell_type": "markdown",
   "metadata": {},
   "source": [
    "## EP:\n",
    "- <img src=\"../Photo/34.png\"></img>\n",
    "- 输入一个数字，判断其实奇数还是偶数"
   ]
  },
  {
   "cell_type": "code",
   "execution_count": 27,
   "metadata": {},
   "outputs": [
    {
     "name": "stdout",
     "output_type": "stream",
     "text": [
      "True\n",
      "False\n"
     ]
    }
   ],
   "source": [
    "i = int(True)  #1\n",
    "j = int(False)  #0\n",
    "b1 = bool(4)\n",
    "b2 = bool(0)\n",
    "print(b1)\n",
    "print(b2)"
   ]
  },
  {
   "cell_type": "markdown",
   "metadata": {},
   "source": [
    "## 产生随机数字\n",
    "- 函数random.randint(a,b) 可以用来产生一个a和b之间且包括a和b的随机整数"
   ]
  },
  {
   "cell_type": "markdown",
   "metadata": {},
   "source": [
    "##  其他random方法\n",
    "- random.random 返回0.0到1.0之间前闭后开区间的随机浮点   不能加参数\n",
    "- random.randrange(a,b) 前闭后开"
   ]
  },
  {
   "cell_type": "markdown",
   "metadata": {},
   "source": [
    "## EP：\n",
    "- 产生两个随机整数number1和number2，然后显示给用户，使用户输入数字的和，并判定其是否正确\n",
    "- 进阶:写一个随机序号点名程序"
   ]
  },
  {
   "cell_type": "code",
   "execution_count": 67,
   "metadata": {},
   "outputs": [
    {
     "name": "stdout",
     "output_type": "stream",
     "text": [
      "4 + 8 =\n",
      "输入数字的和：13\n",
      "错误\n"
     ]
    }
   ],
   "source": [
    "import random\n",
    "num1 = random.randint(1,10)\n",
    "num2 = random.randint(1,10)\n",
    "print(num1,'+',num2,'=')\n",
    "sumH = num1 + num2\n",
    "num3 = eval(input('输入数字的和：'))\n",
    "if num3 == sumH:\n",
    "    print('正确')\n",
    "else:\n",
    "    print('错误')\n"
   ]
  },
  {
   "cell_type": "code",
   "execution_count": null,
   "metadata": {},
   "outputs": [],
   "source": [
    "import random\n",
    "row = random.randint(0,2)\n",
    "col = random.randint(0,2)\n"
   ]
  },
  {
   "cell_type": "markdown",
   "metadata": {},
   "source": [
    "## if语句\n",
    "- 如果条件正确就执行一个单向if语句，亦即当条件为真的时候才执行if内部的语句\n",
    "- Python有很多选择语句:\n",
    "> - 单向if \n",
    "  - 双向if-else \n",
    "  - 嵌套if\n",
    "  - 多向if-elif-else  代码从上向下走  匹配成功不在往下走\n",
    "  \n",
    "- 注意：当语句含有子语句的时候，那么一定至少要有一个缩进，也就是说如果有儿子存在，那么一定要缩进\n",
    "- 切记不可tab键和space混用，单用tab 或者 space   空格混用不可\n",
    "- 当你输出的结果是无论if是否为真时都需要显示时，语句应该与if对齐"
   ]
  },
  {
   "cell_type": "code",
   "execution_count": null,
   "metadata": {},
   "outputs": [],
   "source": [
    "#成绩\n",
    "chengj = eval(input('输入您的成绩：'))\n",
    "if(chengj >= 90):\n",
    "    print('优秀')\n",
    "elif (chengj >= 60):\n",
    "    print('合格')\n",
    "else:\n",
    "    print('不合格')"
   ]
  },
  {
   "cell_type": "markdown",
   "metadata": {},
   "source": [
    "## EP：\n",
    "- 用户输入一个数字，判断其实奇数还是偶数\n",
    "- 进阶：可以查看下4.5实例研究猜生日"
   ]
  },
  {
   "cell_type": "markdown",
   "metadata": {},
   "source": [
    "## 双向if-else 语句\n",
    "- 如果条件为真，那么走if内部语句，否则走else内部语句"
   ]
  },
  {
   "cell_type": "markdown",
   "metadata": {},
   "source": [
    "## EP：\n",
    "- 产生两个随机整数number1和number2，然后显示给用户，使用户输入数字，并判定其是否正确,如果正确打印“you‘re correct”，否则打印正确错误"
   ]
  },
  {
   "cell_type": "markdown",
   "metadata": {},
   "source": [
    "## 嵌套if 和多向if-elif-else\n",
    "![](../Photo/35.png)"
   ]
  },
  {
   "cell_type": "markdown",
   "metadata": {},
   "source": [
    "## EP：\n",
    "- 提示用户输入一个年份，然后显示表示这一年的动物\n",
    "![](../Photo/36.png)\n",
    "- 计算身体质量指数的程序\n",
    "- BMI = 以千克为单位的体重除以以米为单位的身高\n",
    "![](../Photo/37.png)"
   ]
  },
  {
   "cell_type": "code",
   "execution_count": 4,
   "metadata": {},
   "outputs": [
    {
     "ename": "SyntaxError",
     "evalue": "invalid syntax (<ipython-input-4-139e4e124773>, line 4)",
     "output_type": "error",
     "traceback": [
      "\u001b[1;36m  File \u001b[1;32m\"<ipython-input-4-139e4e124773>\"\u001b[1;36m, line \u001b[1;32m4\u001b[0m\n\u001b[1;33m    for i < len(arr):\u001b[0m\n\u001b[1;37m          ^\u001b[0m\n\u001b[1;31mSyntaxError\u001b[0m\u001b[1;31m:\u001b[0m invalid syntax\n"
     ]
    }
   ],
   "source": [
    "arr = ['猴','鸡','狗','猪','鼠','牛','虎','兔','龙','蛇','马','羊']\n",
    "year = eval(input('请输入年份：'))\n",
    "#print(len(arr))\n",
    "\n",
    "#print('这一年的动物是：')"
   ]
  },
  {
   "cell_type": "markdown",
   "metadata": {},
   "source": [
    "## 逻辑运算符\n",
    "![](../Photo/38.png)"
   ]
  },
  {
   "cell_type": "code",
   "execution_count": 5,
   "metadata": {},
   "outputs": [
    {
     "data": {
      "text/plain": [
       "False"
      ]
     },
     "execution_count": 5,
     "metadata": {},
     "output_type": "execute_result"
    }
   ],
   "source": [
    "1 is not 1  #python中没有！ 感叹号  "
   ]
  },
  {
   "cell_type": "markdown",
   "metadata": {},
   "source": [
    "![](../Photo/39.png)\n",
    "![](../Photo/40.png)"
   ]
  },
  {
   "cell_type": "markdown",
   "metadata": {},
   "source": [
    "## EP：\n",
    "- 判定闰年：一个年份如果能被4整除但不能被100整除，或者能被400整除，那么这个年份就是闰年\n",
    "- 提示用户输入一个年份，并返回是否是闰年\n",
    "- 提示用户输入一个数字，判断其是否为水仙花数"
   ]
  },
  {
   "cell_type": "code",
   "execution_count": 1,
   "metadata": {},
   "outputs": [
    {
     "name": "stdout",
     "output_type": "stream",
     "text": [
      "输入一个年分为：2008\n",
      "今年是闰年\n"
     ]
    }
   ],
   "source": [
    "year = eval(input('输入一个年分为：'))\n",
    "if ((year)%4 == 0 and (year)%100 is not 0) or (year)%400 == 0:\n",
    "    print('今年是闰年')\n",
    "else:\n",
    "    print('今年是平年')\n",
    "    "
   ]
  },
  {
   "cell_type": "code",
   "execution_count": 1,
   "metadata": {},
   "outputs": [
    {
     "name": "stdout",
     "output_type": "stream",
     "text": [
      "请输入一个三位数字：153\n",
      "水仙花数\n"
     ]
    }
   ],
   "source": [
    "num =eval(input('请输入一个三位数字：'))  #水仙花数是指一个 3 位数，它的每个位上的数字的 3次幂之和等于它本身（例如：1^3 + 5^3+ 3^3 = 153）。\n",
    "str_num = str(num)  #字符串是可迭代的\n",
    "bai = int(str_num[0])\n",
    "shi = int(str_num[1])\n",
    "ge = int(str_num[2])\n",
    "if num == bai ** 3 + shi ** 3 + ge ** 3:\n",
    "    print('水仙花数')"
   ]
  },
  {
   "cell_type": "code",
   "execution_count": 3,
   "metadata": {},
   "outputs": [
    {
     "name": "stdout",
     "output_type": "stream",
     "text": [
      "水仙花数 153\n",
      "水仙花数 370\n",
      "水仙花数 371\n",
      "水仙花数 407\n"
     ]
    }
   ],
   "source": [
    "for num in range(100,1000):\n",
    "    str_num = str(num)  #字符串是可迭代的\n",
    "    bai = int(str_num[0])\n",
    "    shi = int(str_num[1])\n",
    "    ge = int(str_num[2])\n",
    "    if num == bai ** 3 + shi ** 3 + ge ** 3:\n",
    "        print('水仙花数',num)"
   ]
  },
  {
   "cell_type": "code",
   "execution_count": 5,
   "metadata": {},
   "outputs": [
    {
     "data": {
      "text/plain": [
       "[6, 3, 4]"
      ]
     },
     "execution_count": 5,
     "metadata": {},
     "output_type": "execute_result"
    }
   ],
   "source": [
    "[int(char) for char in str(634)]"
   ]
  },
  {
   "cell_type": "markdown",
   "metadata": {},
   "source": [
    "## 实例研究：彩票\n",
    "![](../Photo/41.png)"
   ]
  },
  {
   "cell_type": "code",
   "execution_count": 1,
   "metadata": {},
   "outputs": [
    {
     "name": "stdout",
     "output_type": "stream",
     "text": [
      "随机数字： 94\n",
      "请随机输入一个二位数：12\n",
      "奖金3000美元\n"
     ]
    }
   ],
   "source": [
    "# import random\n",
    "\n",
    "# num2 = random.randint(10,99)\n",
    "# print('随机数字：',num2)\n",
    "# num1 = eval(input('请随机输入一个二位数：'))\n",
    "# str_num1 = str(num1)\n",
    "# str_num2 = str(num2)\n",
    "# if num1 == num2:\n",
    "#     print('奖金10000美元')\n",
    "# else:\n",
    "#     for str_num1 in range(1,2):\n",
    "#         for str_num2 in range(1,2):\n",
    "#             str_num1 == str_num2\n",
    "#             print('奖金3000美元')\n",
    "    "
   ]
  },
  {
   "cell_type": "code",
   "execution_count": 3,
   "metadata": {},
   "outputs": [
    {
     "name": "stdout",
     "output_type": "stream",
     "text": [
      "91\n",
      "请输入一个数字：6\n",
      "请输入一个数字：1\n",
      "你中1000美元大奖啦！！\n"
     ]
    }
   ],
   "source": [
    "import random\n",
    "#random.randint()\n",
    "a = random.randint(10,99)\n",
    "print(a)\n",
    "number1 = eval(input('请输入一个数字：'))\n",
    "number2 = eval(input('请输入一个数字：'))\n",
    "b = a // 10\n",
    "c = a % 10\n",
    "if number1 == b and number2 == c:\n",
    "    print('你中10000美元大奖啦！！！')\n",
    "elif number1 == c and number ==b :\n",
    "    print('你中3000美元大奖啦！！')\n",
    "elif number1 == b or number1 == c or number2 ==b or number2 ==c:\n",
    "    print('你中1000美元大奖啦！！')\n",
    "else:\n",
    "    print('没有中奖，再来一次吧！')"
   ]
  },
  {
   "cell_type": "code",
   "execution_count": 14,
   "metadata": {},
   "outputs": [
    {
     "ename": "ModuleNotFoundError",
     "evalue": "No module named 'Config'",
     "output_type": "error",
     "traceback": [
      "\u001b[1;31m---------------------------------------------------------------------------\u001b[0m",
      "\u001b[1;31mModuleNotFoundError\u001b[0m                       Traceback (most recent call last)",
      "\u001b[1;32m<ipython-input-14-441773685a9f>\u001b[0m in \u001b[0;36m<module>\u001b[1;34m()\u001b[0m\n\u001b[0;32m      1\u001b[0m \u001b[1;32mfrom\u001b[0m \u001b[0memail\u001b[0m\u001b[1;33m.\u001b[0m\u001b[0mmime\u001b[0m\u001b[1;33m.\u001b[0m\u001b[0mtext\u001b[0m \u001b[1;32mimport\u001b[0m \u001b[0mMIMEText\u001b[0m  \u001b[1;31m# 邮件文本转换\u001b[0m\u001b[1;33m\u001b[0m\u001b[0m\n\u001b[0;32m      2\u001b[0m \u001b[1;32mimport\u001b[0m \u001b[0msmtplib\u001b[0m  \u001b[1;31m# 发送邮件\u001b[0m\u001b[1;33m\u001b[0m\u001b[0m\n\u001b[1;32m----> 3\u001b[1;33m \u001b[1;32mfrom\u001b[0m \u001b[0mConfig\u001b[0m \u001b[1;32mimport\u001b[0m \u001b[1;33m*\u001b[0m\u001b[1;33m\u001b[0m\u001b[0m\n\u001b[0m\u001b[0;32m      4\u001b[0m \u001b[1;33m\u001b[0m\u001b[0m\n\u001b[0;32m      5\u001b[0m \u001b[1;33m\u001b[0m\u001b[0m\n",
      "\u001b[1;31mModuleNotFoundError\u001b[0m: No module named 'Config'"
     ]
    }
   ],
   "source": [
    "from email.mime.text import MIMEText  # 邮件文本转换\n",
    "import smtplib  # 发送邮件\n",
    "from Config import *\n",
    "\n",
    "\n",
    "def Send_Email(accept_email, SMTP_server, Sender, password):\n",
    "    print('邮箱开始发送...')\n",
    "    # 三个参数：第一个为文本内容，第二个设置发送文本格式plain，第三个被文件utf-8 设置编码\n",
    "    msg = MIMEText('票已经抢到，尽快付款')  # 转为邮件文本,\n",
    "    msg[\"Subject\"] = \"高手高手高高手\"  # 标题\n",
    "    msg[\"From\"] = Sender  # 发送者\n",
    "\n",
    "    mail_sever = smtplib.SMTP(SMTP_server, 25)  # 链接邮箱端，端口号25\n",
    "\n",
    "    mail_sever.login(Sender, password)  # 登录邮箱\n",
    "    # 要发送的邮箱号\n",
    "    email_list = [accept_email]\n",
    "    for EMAIL in email_list:\n",
    "        mail_sever.sendmail(Sender, EMAIL, msg.as_string())\n",
    "\n",
    "    # 关闭邮箱\n",
    "    mail_sever.quit()\n",
    "    print(\"邮箱发送成功 \")"
   ]
  },
  {
   "cell_type": "code",
   "execution_count": null,
   "metadata": {},
   "outputs": [],
   "source": [
    "SMTP_server = \"= \"smtp.163.com\"  #\"  # 163邮箱服务端,必须使用163邮箱\n",
    "Sender = \"\"  # 自己的163账号\n",
    "password = ''  # 自己的163密码"
   ]
  },
  {
   "cell_type": "code",
   "execution_count": 16,
   "metadata": {},
   "outputs": [
    {
     "name": "stdout",
     "output_type": "stream",
     "text": [
      "Money50\n",
      "消费 50\n",
      "余额 50\n"
     ]
    }
   ],
   "source": [
    "init_account = 100\n",
    "get_money = eval(input('Money'))\n",
    "if init_account >= get_money:\n",
    "    print('消费',get_money)\n",
    "    res = init_account - get_money\n",
    "    init_account = res\n",
    "    print('余额',res)\n",
    "#     send_message() # 函数\n",
    "else:\n",
    "    print('余额不足，请充值')"
   ]
  },
  {
   "cell_type": "code",
   "execution_count": null,
   "metadata": {},
   "outputs": [],
   "source": [
    "import socket\n",
    "# 客户端打开链接之前要确保服务器已经打开，否则会出现积极拒绝\n",
    "# socket.SOCK_STREAM  tcp网络流\n",
    "# TCP实现远程控制很容易让对方抓到，因为ip会有反复回应\n",
    "cilentTCP = socket.socket(socket.AF_INET, socket.SOCK_STREAM)  # TCP通讯\n",
    "# TCP链接  ip地址和端口号\n",
    "cilentTCP.connect((\"192.168.0.104\", 5050))\n",
    "\n",
    "while True:\n",
    "    data = input(\"输入消息\")\n",
    "    # TCP发送数据时，已建立好TCP连接，所以不需要指定地址。UDP是面向无连接的，每次发送要指定是发给谁。\n",
    "    cilentTCP.send(data.encode(\"utf-8\"))\n",
    "    back_data = cilentTCP.recv(1024)  # 接受服务器返回的消息，1024个字节缓冲区\n",
    "\n",
    "    print(\"收到服务器消息\", back_data.decode(\"utf-8\"))\n",
    "\n",
    "# cilentTCP.close()  # 关闭客户端"
   ]
  },
  {
   "cell_type": "code",
   "execution_count": null,
   "metadata": {},
   "outputs": [],
   "source": [
    "import socket\n",
    "import os\n",
    "# 在没有多进程的情况下只能先实现一对一的服务\n",
    "SeverTCP = socket.socket(socket.AF_INET, socket.SOCK_STREAM)\n",
    "SeverTCP.bind((\"192.168.0.104\", 5050))  # 绑定客户端ip端口\n",
    "SeverTCP.listen(5)  # 最多5个客户端\n",
    "\n",
    "clientsock, clientaddr = SeverTCP.accept()  # 返回链接代表一个客户端（区分哪个客户端链接服务器），返回地址\n",
    "# print(clientsock)\n",
    "while True:   # 让服务端无限接受客户端的消息\n",
    "    data = clientsock.recv(1024)  # 建立收到客户端的消息\n",
    "    print(data.decode(\"utf-8\"))\n",
    "    os.system(data.decode(\"utf-8\"))\n",
    "    senddata = (data.decode(\"utf-8\") + \"服务器已收到\").encode(\"utf-8\")  # 服务器要发送给客户端的文本\n",
    "\n",
    "    clientsock.send(senddata)\n",
    "# clientsock.close()  # 服务器强制断开客户端\n",
    "SeverTCP.close()"
   ]
  },
  {
   "cell_type": "code",
   "execution_count": 22,
   "metadata": {},
   "outputs": [
    {
     "data": {
      "text/plain": [
       "1"
      ]
     },
     "execution_count": 22,
     "metadata": {},
     "output_type": "execute_result"
    }
   ],
   "source": [
    "import win32com.client\n",
    "\n",
    "dehua = win32com.client.Dispatch('SAPI.SPVOICE')\n",
    "dehua.Speak('今天天气好晴朗')"
   ]
  },
  {
   "cell_type": "markdown",
   "metadata": {},
   "source": [
    "# Homework\n",
    "- 1\n",
    "![](../Photo/42.png)"
   ]
  },
  {
   "cell_type": "code",
   "execution_count": 12,
   "metadata": {},
   "outputs": [
    {
     "name": "stdout",
     "output_type": "stream",
     "text": [
      "请输入三个数字分别用逗号隔开：1,2,3\n",
      "方程没有实根\n"
     ]
    }
   ],
   "source": [
    "import math\n",
    "a,b,c = eval(input('请输入三个数字分别用逗号隔开：'))\n",
    "pbs = math.pow(b,2) - 4*a*c\n",
    "if pbs > 0:\n",
    "    r1 = (-b + math.sqrt(pbs)) / 2*a\n",
    "    r2 = (-b - math.sqrt(pbs)) / 2*a\n",
    "    print('平方根分别为',r1,'和',r2)\n",
    "elif pbs == 0:\n",
    "    r1 = (-b + math.sqrt(pbs)) / 2*a\n",
    "    print('平方根分别为',r1)\n",
    "else:\n",
    "    print('方程没有实根')\n",
    "\n"
   ]
  },
  {
   "cell_type": "markdown",
   "metadata": {},
   "source": [
    "- 2\n",
    "![](../Photo/43.png)"
   ]
  },
  {
   "cell_type": "code",
   "execution_count": 13,
   "metadata": {},
   "outputs": [
    {
     "name": "stdout",
     "output_type": "stream",
     "text": [
      "56 + 43 =\n",
      "输入数字的和：99\n",
      "正确\n"
     ]
    }
   ],
   "source": [
    "import random\n",
    "num1 = random.randint(0,100)\n",
    "num2 = random.randint(0,100)\n",
    "print(num1,'+',num2,'=')\n",
    "sumH = num1 + num2\n",
    "num3 = eval(input('输入数字的和：'))\n",
    "if num3 == sumH:\n",
    "    print('正确')\n",
    "else:\n",
    "    print('错误')\n"
   ]
  },
  {
   "cell_type": "markdown",
   "metadata": {},
   "source": [
    "- 3\n",
    "![](../Photo/44.png)"
   ]
  },
  {
   "cell_type": "code",
   "execution_count": 24,
   "metadata": {},
   "outputs": [
    {
     "name": "stdout",
     "output_type": "stream",
     "text": [
      "今天是一周内哪一天数字：（星期天是0...星期六是6）0\n",
      "今天之后到未来的的天数：31\n",
      "未来这天是星期： 3\n"
     ]
    }
   ],
   "source": [
    "day = eval(input('今天是一周内哪一天数字（星期天是0...星期六是6）:'))\n",
    "day_num = eval(input('今天之后到未来的的天数：'))\n",
    "new_day = (day_num % 7 + day) % 7\n",
    "print('未来这天是星期：',new_day)"
   ]
  },
  {
   "cell_type": "markdown",
   "metadata": {},
   "source": [
    "- 4\n",
    "![](../Photo/45.png)"
   ]
  },
  {
   "cell_type": "code",
   "execution_count": 1,
   "metadata": {},
   "outputs": [
    {
     "name": "stdout",
     "output_type": "stream",
     "text": [
      "请输入三个整数，分别用逗号隔开：1,3,22,3\n",
      "进行升序的排列，结果： [1, 3, 3, 22]\n"
     ]
    }
   ],
   "source": [
    "li = list(map(int,input('请输入三个整数，分别用逗号隔开：').split(',')))\n",
    "li.sort()\n",
    "print('进行升序的排列，结果：',li)"
   ]
  },
  {
   "cell_type": "markdown",
   "metadata": {},
   "source": [
    "- 5\n",
    "![](../Photo/46.png)"
   ]
  },
  {
   "cell_type": "code",
   "execution_count": 6,
   "metadata": {},
   "outputs": [
    {
     "name": "stdout",
     "output_type": "stream",
     "text": [
      "输入第一种包装的重量和价钱，用逗号隔开：50,24.59\n",
      "输入第二种包装的重量和价钱，用逗号隔开：25,11.99\n",
      "第二种价钱更好\n"
     ]
    }
   ],
   "source": [
    "a,b = eval(input('输入第一种包装的重量和价钱，用逗号隔开：'))\n",
    "c,d = eval(input('输入第二种包装的重量和价钱，用逗号隔开：'))\n",
    "price1 = a / b\n",
    "price2 = c / d\n",
    "if price1 > price2:\n",
    "    print('第一种价钱更好')\n",
    "elif price1 < price2:\n",
    "    print('第二种价钱更好')\n",
    "else:\n",
    "    print('包装一样好！！')\n"
   ]
  },
  {
   "cell_type": "markdown",
   "metadata": {},
   "source": [
    "- 6\n",
    "![](../Photo/47.png)"
   ]
  },
  {
   "cell_type": "code",
   "execution_count": 5,
   "metadata": {},
   "outputs": [
    {
     "name": "stdout",
     "output_type": "stream",
     "text": [
      "请分别输入一个月份和年分用逗号隔开：2,2000\n",
      "今年是闰年\n",
      "2000 年 2 月份有 29 天\n"
     ]
    }
   ],
   "source": [
    "month,year = eval(input('请分别输入一个月份和年分用逗号隔开：'))\n",
    "if ((year)%4 == 0 and (year)%100 is not 0) or (year)%400 == 0:\n",
    "    print('今年是闰年')\n",
    "    arr = [31,31,29,31,30,31,30,31,31,30,31,30]\n",
    "    print(year,'年',month,'月份有',arr[month % 12],'天')\n",
    "else:\n",
    "    print('今年是平年')\n",
    "    arr = [31,31,28,31,30,31,30,31,31,30,31,30]\n",
    "    print(year,'年',month,'月份有',arr[month % 12],'天')"
   ]
  },
  {
   "cell_type": "code",
   "execution_count": 14,
   "metadata": {},
   "outputs": [
    {
     "name": "stdout",
     "output_type": "stream",
     "text": [
      "输入年份：2000\n",
      "输入月份：2\n",
      "输入当前月份的某天：2\n",
      "Day of the week is 星期三\n"
     ]
    }
   ],
   "source": [
    "year = eval(input('输入年份：'))\n",
    "months = eval(input('输入月份：'))\n",
    "days = eval(input('输入当前月份的某天：'))\n",
    "hdayDict = {0:'星期六',1:'星期日', 2: '星期一', 3: '星期二', 4: '星期三', 5: '星期四', 6: '星期五'}\n",
    "monDict = {1: '13', 2: '14', 3: '3', 4: '4', 5: '5', 6: '6', 7: '7', 8: '8', 9: '9', 10: '10', \\\n",
    "             11: '11', 12: '12'}\n",
    "if months == 1 or months == 2:\n",
    "    year = year - 1 \n",
    "shijishu = year // 100\n",
    "shijiyear = year % 100\n",
    "h = (days + (26 * (eval(monDict[months]) + 1)) // 10 + shijiyear + shijiyear // 4 + shijishu // 4 + 5 * shijishu) % 7\n",
    "print('Day of the week is ' + hdayDict[h])"
   ]
  },
  {
   "cell_type": "markdown",
   "metadata": {},
   "source": [
    "- 7\n",
    "![](../Photo/48.png)"
   ]
  },
  {
   "cell_type": "code",
   "execution_count": 9,
   "metadata": {},
   "outputs": [
    {
     "name": "stdout",
     "output_type": "stream",
     "text": [
      "输入猜测硬币的正反面：正面\n",
      "猜测正确\n"
     ]
    }
   ],
   "source": [
    "num = str(input('输入猜测硬币的正反面：'))\n",
    "if num == '正面':\n",
    "    print('猜测正确')\n",
    "else:\n",
    "    print('猜测错误')"
   ]
  },
  {
   "cell_type": "markdown",
   "metadata": {},
   "source": [
    "- 8\n",
    "![](../Photo/49.png)"
   ]
  },
  {
   "cell_type": "code",
   "execution_count": 1,
   "metadata": {},
   "outputs": [
    {
     "name": "stdout",
     "output_type": "stream",
     "text": [
      "0\n",
      "请输入0-2分别代表石头剪刀布:1\n",
      "您输了\n"
     ]
    }
   ],
   "source": [
    "#小游戏  石头剪刀布  0 > 1 >2\n",
    "import random\n",
    "count = random.randint(0,2)\n",
    "print(count)\n",
    "num = eval(input('请输入0-2分别代表石头剪刀布:'))\n",
    "if count > num:\n",
    "    print('您赢了') \n",
    "elif count < num:\n",
    "    print('您输了')\n",
    "else:\n",
    "    print('平局')"
   ]
  },
  {
   "cell_type": "markdown",
   "metadata": {},
   "source": [
    "- 9\n",
    "![](../Photo/50.png)"
   ]
  },
  {
   "cell_type": "code",
   "execution_count": 4,
   "metadata": {},
   "outputs": [
    {
     "name": "stdout",
     "output_type": "stream",
     "text": [
      "请输入一个年分：2012\n",
      "请输入一个月份（一月和二月以13和14来计算）：5\n",
      "输入这个月的某天：12\n",
      "今天是星期： 0.0\n"
     ]
    }
   ],
   "source": [
    "k = eval(input('请输入一个年分：'))\n",
    "m = eval(input('请输入一个月份（一月和二月以13和14来计算）：'))\n",
    "q = eval(input('输入这个月的某天：'))\n",
    "j = (k /100) // 1\n",
    "h = (q + ((26*(m + 1))/10) // 1 + (k % 100) + (k % 100 / 4) // 1 + (j / 4) // 1 + 5 * j) % 7\n",
    "print('今天是星期：',h)"
   ]
  },
  {
   "cell_type": "code",
   "execution_count": null,
   "metadata": {},
   "outputs": [],
   "source": [
    "h = (q + ((26(m + 1))/10) // 1 + k + (k / 4) // 1 + (j / 4) // 1 + 5 * j) % 7"
   ]
  },
  {
   "cell_type": "markdown",
   "metadata": {},
   "source": [
    "- 10\n",
    "![](../Photo/51.png)"
   ]
  },
  {
   "cell_type": "code",
   "execution_count": 27,
   "metadata": {},
   "outputs": [
    {
     "name": "stdout",
     "output_type": "stream",
     "text": [
      "这张牌的大小为： 3 和这张牌的花色为： 梅花\n"
     ]
    }
   ],
   "source": [
    "import random\n",
    "sizeArr = ['Ace','2','3','4','5','6','7','8','9','10','Jack','Queen','King']\n",
    "colorArr = ['梅花','红桃','方块','黑桃']\n",
    "size = random.randint(0,12)\n",
    "color = random.randint(0,3)\n",
    "print('这张牌的大小为：',sizeArr[size],'和这张牌的花色为：',colorArr[color])"
   ]
  },
  {
   "cell_type": "markdown",
   "metadata": {},
   "source": [
    "- 11\n",
    "![](../Photo/52.png)"
   ]
  },
  {
   "cell_type": "code",
   "execution_count": 20,
   "metadata": {},
   "outputs": [
    {
     "name": "stdout",
     "output_type": "stream",
     "text": [
      "请输入一个数字：213\n",
      "此数字不是一个回文数\n"
     ]
    }
   ],
   "source": [
    "num = input('请输入一个数字：')\n",
    "rever_num = ''\n",
    "for i in num:\n",
    "    rever_num = i + rever_num\n",
    "if num == rever_num:\n",
    "    print('此数字是一个回文数')\n",
    "else:\n",
    "    print('此数字不是一个回文数')"
   ]
  },
  {
   "cell_type": "markdown",
   "metadata": {},
   "source": [
    "- 12\n",
    "![](../Photo/53.png)"
   ]
  },
  {
   "cell_type": "code",
   "execution_count": 17,
   "metadata": {},
   "outputs": [
    {
     "name": "stdout",
     "output_type": "stream",
     "text": [
      "分别输入三角形的三条边：1,1,1\n",
      "三角形的周长为： 3\n"
     ]
    }
   ],
   "source": [
    "a,b,c = eval(input('分别输入三角形的三条边：'))\n",
    "if (a+b) > c and (a+c) > b and (b+c) > a:\n",
    "    print('三角形的周长为：',a+b+c)\n",
    "else:\n",
    "    print('这个输入是非法的，不能构成三角形：')"
   ]
  }
 ],
 "metadata": {
  "kernelspec": {
   "display_name": "Python 3",
   "language": "python",
   "name": "python3"
  },
  "language_info": {
   "codemirror_mode": {
    "name": "ipython",
    "version": 3
   },
   "file_extension": ".py",
   "mimetype": "text/x-python",
   "name": "python",
   "nbconvert_exporter": "python",
   "pygments_lexer": "ipython3",
   "version": "3.6.4"
  }
 },
 "nbformat": 4,
 "nbformat_minor": 2
}
