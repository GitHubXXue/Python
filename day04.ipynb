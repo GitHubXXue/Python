{
 "cells": [
  {
   "cell_type": "markdown",
   "metadata": {},
   "source": [
    "# 循环\n",
    "- 循环是一种控制语句块重复执行的结构\n",
    "- while  适用于广度遍历\n",
    "- for    开发中经常使用"
   ]
  },
  {
   "cell_type": "markdown",
   "metadata": {},
   "source": [
    "## while 循环\n",
    "- 当一个条件保持真的时候while循环重复执行语句\n",
    "- while 循环一定要有结束条件，否则很容易进入死循环\n",
    "- while 循环的语法是：\n",
    "\n",
    "    while loop-contunuation-conndition:\n",
    "\n",
    "        Statement"
   ]
  },
  {
   "cell_type": "code",
   "execution_count": 3,
   "metadata": {},
   "outputs": [
    {
     "name": "stdout",
     "output_type": "stream",
     "text": [
      "1\n",
      "2\n",
      "3\n",
      "4\n",
      "5\n",
      "6\n",
      "7\n",
      "8\n",
      "9\n",
      "10\n"
     ]
    }
   ],
   "source": [
    "i = 0\n",
    "while i < 10:\n",
    "    i += 1\n",
    "    print(i)"
   ]
  },
  {
   "cell_type": "code",
   "execution_count": 12,
   "metadata": {},
   "outputs": [
    {
     "name": "stdout",
     "output_type": "stream",
     "text": [
      "a\n",
      "b\n",
      "c\n",
      "d\n"
     ]
    }
   ],
   "source": [
    "# for i in 'abcd':\n",
    "#     print(i)\n",
    "str = 'abcd'\n",
    "i = 0\n",
    "#print(len(str))\n",
    "while i < len(str):\n",
    "    print(str[i])\n",
    "    i += 1"
   ]
  },
  {
   "cell_type": "markdown",
   "metadata": {},
   "source": [
    "## 示例：\n",
    "sum = 0\n",
    "\n",
    "i = 1\n",
    "\n",
    "while i <10:\n",
    "\n",
    "    sum = sum + i\n",
    "    i = i + 1"
   ]
  },
  {
   "cell_type": "markdown",
   "metadata": {},
   "source": [
    "## 错误示例：\n",
    "sum = 0\n",
    "\n",
    "i = 1\n",
    "\n",
    "while i <10:\n",
    "\n",
    "    sum = sum + i\n",
    "\n",
    "i = i + 1\n",
    "- 一旦进入死循环可按 Ctrl + c 停止"
   ]
  },
  {
   "cell_type": "markdown",
   "metadata": {},
   "source": [
    "## EP：\n",
    "![](../Photo/143.png)\n",
    "![](../Photo/144.png)"
   ]
  },
  {
   "cell_type": "code",
   "execution_count": 14,
   "metadata": {},
   "outputs": [
    {
     "name": "stdout",
     "output_type": "stream",
     "text": [
      "2\n",
      "3\n",
      "4\n",
      "0\n",
      "4\n",
      "0\n"
     ]
    }
   ],
   "source": [
    "num = eval(input())\n",
    "max_num = num\n",
    "while num != 0:\n",
    "    num = eval(input())\n",
    "    if num > max_num:\n",
    "        max_num = num\n",
    "print(max_num)\n",
    "print(num)"
   ]
  },
  {
   "cell_type": "code",
   "execution_count": null,
   "metadata": {},
   "outputs": [],
   "source": [
    "#计算小数不会用到python来做\n",
    "i = 1\n",
    "while i != 0:\n",
    "    i -= 0.01\n",
    "    print(i)"
   ]
  },
  {
   "cell_type": "markdown",
   "metadata": {},
   "source": [
    "# 验证码\n",
    "- 随机产生四个字母的验证码，如果正确，输出验证码正确。如果错误，产生新的验证码，用户重新输入。\n",
    "- 验证码只能输入三次，如果三次都错，返回“别爬了，我们小网站没什么好爬的”\n",
    "- 密码登录，如果三次错误，账号被锁定\n"
   ]
  },
  {
   "cell_type": "code",
   "execution_count": 2,
   "metadata": {},
   "outputs": [
    {
     "name": "stdout",
     "output_type": "stream",
     "text": [
      "验证码： NVTM\n",
      "请输入验证码。1234\n",
      "验证码错误。\n",
      "验证码： OOWV\n",
      "请输入验证码。OOWV\n",
      "验证码正确\n"
     ]
    }
   ],
   "source": [
    "import random\n",
    "yzm_str = ''\n",
    "j = 0\n",
    "while j < 3:  \n",
    "    for i in range(4):\n",
    "        yzm = chr(random.randint(65,90))\n",
    "        yzm_str += yzmhttp://localhost:8888/notebooks/Desktop/Folder/day04.ipynb#\n",
    "    print('验证码：',yzm_str)\n",
    "    a = input('请输入验证码。')\n",
    "    if a == yzm_str:\n",
    "        print('验证码正确')\n",
    "        break\n",
    "    else:\n",
    "        print('验证码错误。')\n",
    "        yzm_str = ''\n",
    "        j += 1\n",
    "    if j == 3:\n",
    "        print('返回“别爬了，我们小网站没什么好爬的”')"
   ]
  },
  {
   "cell_type": "code",
   "execution_count": 1,
   "metadata": {},
   "outputs": [],
   "source": [
    "#密码登录，如果三次错误，账号被锁定\n",
    "j = 0"
   ]
  },
  {
   "cell_type": "code",
   "execution_count": 4,
   "metadata": {},
   "outputs": [
    {
     "name": "stdout",
     "output_type": "stream",
     "text": [
      "账号锁定\n"
     ]
    }
   ],
   "source": [
    "password = 'Joker'\n",
    "i = 0\n",
    "if j !=3:\n",
    "    while i < 3:\n",
    "        pass_=input('>>')\n",
    "        if pass_ == password:\n",
    "            print('OK')\n",
    "            break\n",
    "        else:\n",
    "            print('Error')\n",
    "            i +=1\n",
    "    j = i\n",
    "else:\n",
    "    print('账号锁定')"
   ]
  },
  {
   "cell_type": "code",
   "execution_count": 6,
   "metadata": {},
   "outputs": [
    {
     "data": {
      "text/plain": [
       "'G'"
      ]
     },
     "execution_count": 6,
     "metadata": {},
     "output_type": "execute_result"
    }
   ],
   "source": [
    "import random\n",
    "import string\n",
    "random.choice(string.ascii_letters)"
   ]
  },
  {
   "cell_type": "code",
   "execution_count": 5,
   "metadata": {},
   "outputs": [
    {
     "data": {
      "image/png": "[encoded data removed]",
      "text/plain": [
       "<matplotlib.figure.Figure at 0x27d3e02a438>"
      ]
     },
     "metadata": {},
     "output_type": "display_data"
    }
   ],
   "source": [
    "# 画出二次函数\n",
    "import matplotlib.pyplot as plt\n",
    "x_list = []\n",
    "y_list = []\n",
    "for x in range(-50,50,1):  #range() 开始 结束 步长\n",
    "    y = x**2\n",
    "    x_list.append(x)\n",
    "    y_list.append(y)\n",
    "plt.plot(x_list,y_list)   #plt.plot(y_list) 去掉x_list 也是可以的\n",
    "plt.show()"
   ]
  },
  {
   "cell_type": "markdown",
   "metadata": {},
   "source": [
    "## 尝试死循环"
   ]
  },
  {
   "cell_type": "markdown",
   "metadata": {},
   "source": [
    "## 实例研究：猜数字\n",
    "- 你将要编写一个能够随机生成一个0到10之间的且包括两者的数字程序，这个程序\n",
    "- 提示用户连续地输入数字直到正确，且提示用户输入的数字是过高还是过低"
   ]
  },
  {
   "cell_type": "code",
   "execution_count": 2,
   "metadata": {},
   "outputs": [
    {
     "name": "stdout",
     "output_type": "stream",
     "text": [
      "随机生成一个0到10之间数字为： 10\n",
      "请输入数字：2\n",
      "输入错误请重新输入数字：2\n",
      "您输如的数字错误\n",
      "输入错误请重新输入数字：10\n",
      "您输入的数字正确。\n"
     ]
    }
   ],
   "source": [
    "import random\n",
    "num = random.randint(0,10)\n",
    "print('随机生成一个0到10之间数字为：',num)\n",
    "rand = eval(input('请输入数字：'))\n",
    "if rand == num:\n",
    "    print('您输入的数字正确。')\n",
    "while rand != num:\n",
    "    rand = eval(input('输入错误请重新输入数字：'))\n",
    "    if rand == num:\n",
    "        print('您输入的数字正确。')\n",
    "    else:\n",
    "        print('您输如的数字错误')\n",
    "    rand == num\n",
    "    "
   ]
  },
  {
   "cell_type": "markdown",
   "metadata": {},
   "source": [
    "## 使用哨兵值来控制循环\n",
    "- 哨兵值来表明输入的结束\n",
    "- ![](../Photo/54.png)"
   ]
  },
  {
   "cell_type": "markdown",
   "metadata": {},
   "source": [
    "## 警告\n",
    "![](../Photo/55.png)"
   ]
  },
  {
   "cell_type": "markdown",
   "metadata": {},
   "source": [
    "## for 循环\n",
    "- Python的for 循环通过一个序列中的每个值来进行迭代\n",
    "- range(a,b,k)， a，b，k 必须为整数\n",
    "- a: start  开始\n",
    "- b: end  结束\n",
    "- k: step  步长\n",
    "- 注意for 是循环一切可迭代对象，而不是只能使用range"
   ]
  },
  {
   "cell_type": "code",
   "execution_count": 11,
   "metadata": {},
   "outputs": [
    {
     "name": "stdout",
     "output_type": "stream",
     "text": [
      "1\n"
     ]
    }
   ],
   "source": [
    "for i in range(1,1):\n",
    "    print(i)  #没有输出\n",
    "for i in range(1,5,5):\n",
    "    print(i)"
   ]
  },
  {
   "cell_type": "code",
   "execution_count": 10,
   "metadata": {},
   "outputs": [
    {
     "data": {
      "text/plain": [
       "array([1. , 1.5, 2. , 2.5, 3. , 3.5, 4. , 4.5, 5. , 5.5, 6. , 6.5, 7. ,\n",
       "       7.5, 8. , 8.5, 9. , 9.5])"
      ]
     },
     "metadata": {},
     "output_type": "display_data"
    }
   ],
   "source": [
    "import numpy as np    #一维数组 就可以把它看做是一个一围的数组\n",
    "display(np.arange(1,10,0.5))"
   ]
  },
  {
   "cell_type": "code",
   "execution_count": 12,
   "metadata": {},
   "outputs": [
    {
     "ename": "SyntaxError",
     "evalue": "(unicode error) 'unicodeescape' codec can't decode bytes in position 12-13: truncated \\UXXXXXXXX escape (<ipython-input-12-ec0130674000>, line 2)",
     "output_type": "error",
     "traceback": [
      "\u001b[1;36m  File \u001b[1;32m\"<ipython-input-12-ec0130674000>\"\u001b[1;36m, line \u001b[1;32m2\u001b[0m\n\u001b[1;33m    image = plt.imread('‪C:\\Users\\snow\\Desktop\\psb.jpg')\u001b[0m\n\u001b[1;37m                      ^\u001b[0m\n\u001b[1;31mSyntaxError\u001b[0m\u001b[1;31m:\u001b[0m (unicode error) 'unicodeescape' codec can't decode bytes in position 12-13: truncated \\UXXXXXXXX escape\n"
     ]
    }
   ],
   "source": [
    "import matplotlib.pyplot as plt\n",
    "image = plt.imread('‪C:\\Users\\snow\\Desktop\\psb.jpg')\n",
    "display(image)   #显示围度 图片三围"
   ]
  },
  {
   "cell_type": "markdown",
   "metadata": {},
   "source": [
    "# 在Python里面一切皆对象"
   ]
  },
  {
   "cell_type": "markdown",
   "metadata": {},
   "source": [
    "## EP:\n",
    "- ![](../Photo/145.png)"
   ]
  },
  {
   "cell_type": "code",
   "execution_count": 29,
   "metadata": {},
   "outputs": [
    {
     "name": "stdout",
     "output_type": "stream",
     "text": [
      "10011 142\n"
     ]
    }
   ],
   "source": [
    "#5.9\n",
    "i = 1\n",
    "sum = 0\n",
    "for i in range(10000):\n",
    "    if sum > 10000:\n",
    "        break\n",
    "    sum = sum + i\n",
    "print(sum,i)\n",
    "    "
   ]
  },
  {
   "cell_type": "code",
   "execution_count": 16,
   "metadata": {},
   "outputs": [
    {
     "name": "stdout",
     "output_type": "stream",
     "text": [
      "输入一个数字：2\n",
      "输入一个数字：3\n",
      "输入一个数字：4\n",
      "输入一个数字：5\n",
      "输入一个数字：0\n",
      "14\n",
      "5\n"
     ]
    }
   ],
   "source": [
    "#5.7\n",
    "sum = 0\n",
    "i = 0\n",
    "while i < 5:\n",
    "    num = eval(input('输入一个数字：'))\n",
    "    sum += num\n",
    "    i +=1\n",
    "print(sum)\n",
    "print(i)"
   ]
  },
  {
   "cell_type": "code",
   "execution_count": 14,
   "metadata": {},
   "outputs": [
    {
     "data": {
      "text/plain": [
       "['__abs__',\n",
       " '__add__',\n",
       " '__and__',\n",
       " '__bool__',\n",
       " '__ceil__',\n",
       " '__class__',\n",
       " '__delattr__',\n",
       " '__dir__',\n",
       " '__divmod__',\n",
       " '__doc__',\n",
       " '__eq__',\n",
       " '__float__',\n",
       " '__floor__',\n",
       " '__floordiv__',\n",
       " '__format__',\n",
       " '__ge__',\n",
       " '__getattribute__',\n",
       " '__getnewargs__',\n",
       " '__gt__',\n",
       " '__hash__',\n",
       " '__index__',\n",
       " '__init__',\n",
       " '__init_subclass__',\n",
       " '__int__',\n",
       " '__invert__',\n",
       " '__le__',\n",
       " '__lshift__',\n",
       " '__lt__',\n",
       " '__mod__',\n",
       " '__mul__',\n",
       " '__ne__',\n",
       " '__neg__',\n",
       " '__new__',\n",
       " '__or__',\n",
       " '__pos__',\n",
       " '__pow__',\n",
       " '__radd__',\n",
       " '__rand__',\n",
       " '__rdivmod__',\n",
       " '__reduce__',\n",
       " '__reduce_ex__',\n",
       " '__repr__',\n",
       " '__rfloordiv__',\n",
       " '__rlshift__',\n",
       " '__rmod__',\n",
       " '__rmul__',\n",
       " '__ror__',\n",
       " '__round__',\n",
       " '__rpow__',\n",
       " '__rrshift__',\n",
       " '__rshift__',\n",
       " '__rsub__',\n",
       " '__rtruediv__',\n",
       " '__rxor__',\n",
       " '__setattr__',\n",
       " '__sizeof__',\n",
       " '__str__',\n",
       " '__sub__',\n",
       " '__subclasshook__',\n",
       " '__truediv__',\n",
       " '__trunc__',\n",
       " '__xor__',\n",
       " 'bit_length',\n",
       " 'conjugate',\n",
       " 'denominator',\n",
       " 'from_bytes',\n",
       " 'imag',\n",
       " 'numerator',\n",
       " 'real',\n",
       " 'to_bytes']"
      ]
     },
     "execution_count": 14,
     "metadata": {},
     "output_type": "execute_result"
    }
   ],
   "source": [
    "a =1\n",
    "dir(a)  #前面下划线两个 后面两个 python内置的方法"
   ]
  },
  {
   "cell_type": "markdown",
   "metadata": {},
   "source": [
    "## 嵌套循环\n",
    "- 一个循环可以嵌套另一个循环\n",
    "- 每次循环外层时，内层循环都会被刷新重新完成循环\n",
    "- 也就是说，大循环执行一次，小循环会全部执行一次\n",
    "- 注意：\n",
    "> - 多层循环非常耗时\n",
    "  - 最多使用3层循环"
   ]
  },
  {
   "cell_type": "markdown",
   "metadata": {},
   "source": [
    "## EP：\n",
    "- 使用多层循环完成9X9乘法表\n",
    "- 显示50以内所有的素数"
   ]
  },
  {
   "cell_type": "code",
   "execution_count": 51,
   "metadata": {},
   "outputs": [
    {
     "name": "stdout",
     "output_type": "stream",
     "text": [
      "1 * 1 = 1 , \n",
      "\n",
      "2 * 1 = 2 , 2 * 2 = 4 , \n",
      "\n",
      "3 * 1 = 3 , 3 * 2 = 6 , 3 * 3 = 9 , \n",
      "\n",
      "4 * 1 = 4 , 4 * 2 = 8 , 4 * 3 = 12 , 4 * 4 = 16 , \n",
      "\n",
      "5 * 1 = 5 , 5 * 2 = 10 , 5 * 3 = 15 , 5 * 4 = 20 , 5 * 5 = 25 , \n",
      "\n",
      "6 * 1 = 6 , 6 * 2 = 12 , 6 * 3 = 18 , 6 * 4 = 24 , 6 * 5 = 30 , 6 * 6 = 36 , \n",
      "\n",
      "7 * 1 = 7 , 7 * 2 = 14 , 7 * 3 = 21 , 7 * 4 = 28 , 7 * 5 = 35 , 7 * 6 = 42 , 7 * 7 = 49 , \n",
      "\n",
      "8 * 1 = 8 , 8 * 2 = 16 , 8 * 3 = 24 , 8 * 4 = 32 , 8 * 5 = 40 , 8 * 6 = 48 , 8 * 7 = 56 , 8 * 8 = 64 , \n",
      "\n",
      "9 * 1 = 9 , 9 * 2 = 18 , 9 * 3 = 27 , 9 * 4 = 36 , 9 * 5 = 45 , 9 * 6 = 54 , 9 * 7 = 63 , 9 * 8 = 72 , 9 * 9 = 81 , \n",
      "\n"
     ]
    }
   ],
   "source": [
    "for i in range(1,10):\n",
    "    for j in range(1,i+1):\n",
    "        print(i,'*',j,'=',i*j,end = ' , ')\n",
    "    print('\\n')\n",
    "    continue"
   ]
  },
  {
   "cell_type": "code",
   "execution_count": 118,
   "metadata": {},
   "outputs": [
    {
     "name": "stdout",
     "output_type": "stream",
     "text": [
      "2,3,5,7,9,11,13,15,17,19,21,23,25,27,29,31,33,35,37,39,41,43,45,47,49,"
     ]
    }
   ],
   "source": [
    "for i in range(2,50): \n",
    "    if i == 2:\n",
    "        print(i,end = ',')\n",
    "    for j in range(2,i): \n",
    "        if i % j == 0:\n",
    "            break\n",
    "        else:\n",
    "            j == i-1\n",
    "            print(i,end = ',')\n",
    "            break"
   ]
  },
  {
   "cell_type": "markdown",
   "metadata": {},
   "source": [
    "## 关键字 break 和 continue\n",
    "- break 跳出循环，终止循环\n",
    "- continue 跳出此次循环，继续执行"
   ]
  },
  {
   "cell_type": "markdown",
   "metadata": {},
   "source": [
    "## 注意\n",
    "![](../Photo/56.png)\n",
    "![](../Photo/57.png)"
   ]
  },
  {
   "cell_type": "code",
   "execution_count": null,
   "metadata": {},
   "outputs": [],
   "source": [
    "# redis\n",
    "#\n",
    "网站测试压力\n"
   ]
  },
  {
   "cell_type": "markdown",
   "metadata": {},
   "source": [
    "# Homework\n",
    "- 1 \n",
    "![](../Photo/58.png)"
   ]
  },
  {
   "cell_type": "code",
   "execution_count": 122,
   "metadata": {},
   "outputs": [
    {
     "name": "stdout",
     "output_type": "stream",
     "text": [
      "请输入一个数：2\n",
      "请输入一个数：3\n",
      "请输入一个数：-2\n",
      "请输入一个数：5\n",
      "请输入一个数：0\n",
      "整数有 3 个，负数有 1 个，平均数为： 2.0\n"
     ]
    }
   ],
   "source": [
    "num = eval(input('请输入一个数：'))\n",
    "i = 0\n",
    "j = 0\n",
    "sum1 = 0\n",
    "while num != 0:\n",
    "    if num > 0:\n",
    "        i += 1\n",
    "    else:\n",
    "        j += 1\n",
    "    count = i + j\n",
    "    num = eval(input('请输入一个数：'))\n",
    "    sum1 += num\n",
    "average = sum1 / (count-1)\n",
    "print('整数有',i,'个，负数有',j,'个，平均数为：',average)"
   ]
  },
  {
   "cell_type": "markdown",
   "metadata": {},
   "source": [
    "- 2\n",
    "![](../Photo/59.png)"
   ]
  },
  {
   "cell_type": "code",
   "execution_count": 173,
   "metadata": {},
   "outputs": [
    {
     "name": "stdout",
     "output_type": "stream",
     "text": [
      "十年之后的学费为： 89850.07793492825\n",
      "十年之后大学四年的学费为： 59100.41377917914\n"
     ]
    }
   ],
   "source": [
    "import math\n",
    "xuefei = 10000\n",
    "xuefei_sum = 0\n",
    "for i in range(1,10):\n",
    "    xuefei = xuefei*pow(1+(5/100),i)\n",
    "    if i <= 4:\n",
    "        xuefei_sum += xuefei*pow(1+(5/100),i)\n",
    "print('十年之后的学费为：',xuefei)\n",
    "print('十年之后大学四年的学费为：',xuefei_sum)\n",
    "    "
   ]
  },
  {
   "cell_type": "markdown",
   "metadata": {},
   "source": [
    "- 3\n",
    "![](../Photo/58.png)"
   ]
  },
  {
   "cell_type": "markdown",
   "metadata": {},
   "source": [
    "- 4\n",
    "![](../Photo/60.png)"
   ]
  },
  {
   "cell_type": "code",
   "execution_count": 163,
   "metadata": {},
   "outputs": [
    {
     "name": "stdout",
     "output_type": "stream",
     "text": [
      "120 150 180 210 240 270 300 330 360 390 \n",
      "\n",
      "420 450 480 510 540 570 600 630 660 690 \n",
      "\n",
      "720 750 780 810 840 870 900 930 960 990 \n",
      "\n"
     ]
    }
   ],
   "source": [
    "j = 0\n",
    "for i in range(100,1000):\n",
    "    if i % 5==0 and  i % 6==0:\n",
    "        print(i,end = ' ')\n",
    "        j += 1\n",
    "        if j % 10==0:\n",
    "            print('\\n')"
   ]
  },
  {
   "cell_type": "markdown",
   "metadata": {},
   "source": [
    "- 5\n",
    "![](../Photo/61.png)"
   ]
  },
  {
   "cell_type": "code",
   "execution_count": null,
   "metadata": {},
   "outputs": [],
   "source": [
    "n = 1\n",
    "j = 1\n",
    "while  n**2 < 12000:\n",
    "    n +=1\n",
    "    if n*n >12000:\n",
    "        print('最小整数',n,'满足大于12000')\n",
    "        break\n",
    "while  j**3 < 12000:\n",
    "    j +=1\n",
    "    if j**3 >12000:\n",
    "        print('最大整数',j-1,'满足小于12000')\n",
    "        break"
   ]
  },
  {
   "cell_type": "markdown",
   "metadata": {},
   "source": [
    "- 6\n",
    "![](../Photo/62.png)"
   ]
  },
  {
   "cell_type": "code",
   "execution_count": 18,
   "metadata": {},
   "outputs": [
    {
     "name": "stdout",
     "output_type": "stream",
     "text": [
      "请输入贷款金额：10000\n",
      "请输入贷款年限：5\n",
      "5.0 %\n",
      "5.125 %\n",
      "5.250000000000001 %\n",
      "5.375000000000001 %\n",
      "5.5 %\n",
      "总的还款额为： 12388.246506249998\n"
     ]
    }
   ],
   "source": [
    "money = eval(input('请输入贷款金额：'))\n",
    "year = eval(input('请输入贷款年限：'))\n",
    "rate = 0\n",
    "repay = 0\n",
    "for i in range(0,year):\n",
    "    if rate < (8/100):\n",
    "        rate = 5/100 + 1/8/100*i\n",
    "        print(rate*100,'%')\n",
    "        repay = money*((1+rate)**i)\n",
    "print('总的还款额为：',repay)\n",
    "    \n",
    "    "
   ]
  },
  {
   "cell_type": "markdown",
   "metadata": {},
   "source": [
    "- 7\n",
    "![](../Photo/63.png)"
   ]
  },
  {
   "cell_type": "code",
   "execution_count": 17,
   "metadata": {},
   "outputs": [
    {
     "name": "stdout",
     "output_type": "stream",
     "text": [
      "从左到右的计算结果为 11.397003949278504\n",
      "从右到左的计算结果为 11.397003949278519\n"
     ]
    }
   ],
   "source": [
    "sum1 = 0\n",
    "sum2 = 0\n",
    "for j in range(1,50001):\n",
    "    sum2 += 1 / j\n",
    "print('从左到右的计算结果为',sum2)\n",
    "i = 50000\n",
    "while i != 0:\n",
    "    sum1 += 1/i\n",
    "    i -=1\n",
    "print('从右到左的计算结果为',sum1)"
   ]
  },
  {
   "cell_type": "markdown",
   "metadata": {},
   "source": [
    "- 8\n",
    "![](../Photo/64.png)"
   ]
  },
  {
   "cell_type": "code",
   "execution_count": 231,
   "metadata": {},
   "outputs": [
    {
     "name": "stdout",
     "output_type": "stream",
     "text": [
      "数列和为： 45.124450303050196\n"
     ]
    }
   ],
   "source": [
    "sum1 =0\n",
    "for a in range(98):\n",
    "    if a % 2 ==1:\n",
    "        init = a / (a+2)\n",
    "        sum1 += init\n",
    "print('数列和为：',sum1)"
   ]
  },
  {
   "cell_type": "markdown",
   "metadata": {},
   "source": [
    "- 9\n",
    "![](../Photo/65.png)"
   ]
  },
  {
   "cell_type": "code",
   "execution_count": 7,
   "metadata": {},
   "outputs": [
    {
     "name": "stdout",
     "output_type": "stream",
     "text": [
      "输入一个数：1\n",
      "近似π的值为： 4.0\n"
     ]
    }
   ],
   "source": [
    "num = eval(input('输入一个数：'))\n",
    "pi = 0\n",
    "for i in range(1,num+1):\n",
    "    pi += 4 * (((-1)**(i+1))/(2*i-1))\n",
    "    \n",
    "print('近似π的值为：',pi)"
   ]
  },
  {
   "cell_type": "markdown",
   "metadata": {},
   "source": [
    "- 10 \n",
    "![](../Photo/66.png)"
   ]
  },
  {
   "cell_type": "code",
   "execution_count": 9,
   "metadata": {},
   "outputs": [
    {
     "name": "stdout",
     "output_type": "stream",
     "text": [
      "6 28 496 8128 "
     ]
    }
   ],
   "source": [
    "sum1 = 0\n",
    "for i in range(6,10001):\n",
    "    sum1 = 0\n",
    "    for j in range(1,i):\n",
    "        if i % j == 0:\n",
    "            sum1 += j\n",
    "    if i == sum1:\n",
    "        print(i,end = ' ')"
   ]
  },
  {
   "cell_type": "markdown",
   "metadata": {},
   "source": [
    "- 11\n",
    "![](../Photo/67.png)"
   ]
  },
  {
   "cell_type": "code",
   "execution_count": 23,
   "metadata": {},
   "outputs": [
    {
     "name": "stdout",
     "output_type": "stream",
     "text": [
      "\n",
      "\n",
      "2 1,\n",
      "\n",
      "3 1,3 2,\n",
      "\n",
      "4 1,4 2,4 3,\n",
      "\n",
      "5 1,5 2,5 3,5 4,\n",
      "\n",
      "6 1,6 2,6 3,6 4,6 5,\n",
      "\n",
      "7 1,7 2,7 3,7 4,7 5,7 6,\n",
      "\n",
      "组合总个数为： 21\n"
     ]
    }
   ],
   "source": [
    "count = 0\n",
    "for i in range(1,8):\n",
    "    for j in range(1,8):\n",
    "        if i == j:\n",
    "            break\n",
    "        else:\n",
    "            print(i,j,end= ',')\n",
    "            count +=1\n",
    "    print('\\n')\n",
    "print('组合总个数为：',count)"
   ]
  },
  {
   "cell_type": "markdown",
   "metadata": {},
   "source": [
    "- 12\n",
    "![](../Photo/68.png)"
   ]
  },
  {
   "cell_type": "code",
   "execution_count": 59,
   "metadata": {},
   "outputs": [
    {
     "data": {
      "text/plain": [
       "386.36"
      ]
     },
     "execution_count": 59,
     "metadata": {},
     "output_type": "execute_result"
    }
   ],
   "source": [
    "1 **2 + 2**2 + 3**2 + 5.5 *2 + 5.6 **2 + 6 **2 + 7**2 + 8**2 + 9 **2 + 10 **2"
   ]
  },
  {
   "cell_type": "code",
   "execution_count": 60,
   "metadata": {},
   "outputs": [
    {
     "data": {
      "text/plain": [
       "57.1"
      ]
     },
     "execution_count": 60,
     "metadata": {},
     "output_type": "execute_result"
    }
   ],
   "source": [
    "1  + 2 + 3 + 5.5  + 5.6 + 6 + 7 + 8+ 9  + 10"
   ]
  }
 ],
 "metadata": {
  "kernelspec": {
   "display_name": "Python 3",
   "language": "python",
   "name": "python3"
  },
  "language_info": {
   "codemirror_mode": {
    "name": "ipython",
    "version": 3
   },
   "file_extension": ".py",
   "mimetype": "text/x-python",
   "name": "python",
   "nbconvert_exporter": "python",
   "pygments_lexer": "ipython3",
   "version": "3.6.4"
  }
 },
 "nbformat": 4,
 "nbformat_minor": 2
}
